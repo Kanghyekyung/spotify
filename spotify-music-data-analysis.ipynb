{
 "cells": [
  {
   "cell_type": "code",
   "execution_count": 1,
   "id": "701cd8e2",
   "metadata": {
    "_cell_guid": "b1076dfc-b9ad-4769-8c92-a6c4dae69d19",
    "_uuid": "8f2839f25d086af736a60e9eeb907d3b93b6e0e5",
    "papermill": {
     "duration": 0.84835,
     "end_time": "2025-02-05T11:58:49.741271",
     "exception": false,
     "start_time": "2025-02-05T11:58:48.892921",
     "status": "completed"
    },
    "tags": []
   },
   "outputs": [],
   "source": [
    "# This Python 3 environment comes with many helpful analytics libraries installed\n",
    "# It is defined by the kaggle/python Docker image: https://github.com/kaggle/docker-python\n",
    "# For example, here's several helpful packages to load\n",
    "\n",
    "import numpy as np # linear algebra\n",
    "import pandas as pd # data processing, CSV file I/O (e.g. pd.read_csv)\n",
    "\n",
    "# Input data files are available in the read-only \"../input/\" directory\n",
    "# For example, running this (by clicking run or pressing Shift+Enter) will list all files under the input directory\n",
    "\n",
    "import os\n",
    "for dirname, _, filenames in os.walk('/kaggle/input'):\n",
    "    for filename in filenames:\n",
    "        print(os.path.join(dirname, filename))\n",
    "\n",
    "# You can write up to 20GB to the current directory (/kaggle/working/) that gets preserved as output when you create a version using \"Save & Run All\" \n",
    "# You can also write temporary files to /kaggle/temp/, but they won't be saved outside of the current session"
   ]
  },
  {
   "cell_type": "markdown",
   "id": "caa51f7d",
   "metadata": {
    "papermill": {
     "duration": 0.010457,
     "end_time": "2025-02-05T11:58:49.762775",
     "exception": false,
     "start_time": "2025-02-05T11:58:49.752318",
     "status": "completed"
    },
    "tags": []
   },
   "source": [
    "**Importing Libraries**"
   ]
  },
  {
   "cell_type": "code",
   "execution_count": 3,
   "id": "cc522a02",
   "metadata": {
    "papermill": {
     "duration": 2.147711,
     "end_time": "2025-02-05T11:58:51.921118",
     "exception": false,
     "start_time": "2025-02-05T11:58:49.773407",
     "status": "completed"
    },
    "tags": []
   },
   "outputs": [
    {
     "ename": "OSError",
     "evalue": "'seaborn' is not a valid package style, path of style file, URL of style file, or library style name (library styles are listed in `style.available`)",
     "output_type": "error",
     "traceback": [
      "\u001b[1;31m---------------------------------------------------------------------------\u001b[0m",
      "\u001b[1;31mFileNotFoundError\u001b[0m                         Traceback (most recent call last)",
      "File \u001b[1;32m~\\anaconda3\\Lib\\site-packages\\matplotlib\\style\\core.py:129\u001b[0m, in \u001b[0;36muse\u001b[1;34m(style)\u001b[0m\n\u001b[0;32m    128\u001b[0m \u001b[38;5;28;01mtry\u001b[39;00m:\n\u001b[1;32m--> 129\u001b[0m     style \u001b[38;5;241m=\u001b[39m _rc_params_in_file(style)\n\u001b[0;32m    130\u001b[0m \u001b[38;5;28;01mexcept\u001b[39;00m \u001b[38;5;167;01mOSError\u001b[39;00m \u001b[38;5;28;01mas\u001b[39;00m err:\n",
      "File \u001b[1;32m~\\anaconda3\\Lib\\site-packages\\matplotlib\\__init__.py:903\u001b[0m, in \u001b[0;36m_rc_params_in_file\u001b[1;34m(fname, transform, fail_on_error)\u001b[0m\n\u001b[0;32m    902\u001b[0m rc_temp \u001b[38;5;241m=\u001b[39m {}\n\u001b[1;32m--> 903\u001b[0m \u001b[38;5;28;01mwith\u001b[39;00m _open_file_or_url(fname) \u001b[38;5;28;01mas\u001b[39;00m fd:\n\u001b[0;32m    904\u001b[0m     \u001b[38;5;28;01mtry\u001b[39;00m:\n",
      "File \u001b[1;32m~\\anaconda3\\Lib\\contextlib.py:137\u001b[0m, in \u001b[0;36m_GeneratorContextManager.__enter__\u001b[1;34m(self)\u001b[0m\n\u001b[0;32m    136\u001b[0m \u001b[38;5;28;01mtry\u001b[39;00m:\n\u001b[1;32m--> 137\u001b[0m     \u001b[38;5;28;01mreturn\u001b[39;00m \u001b[38;5;28mnext\u001b[39m(\u001b[38;5;28mself\u001b[39m\u001b[38;5;241m.\u001b[39mgen)\n\u001b[0;32m    138\u001b[0m \u001b[38;5;28;01mexcept\u001b[39;00m \u001b[38;5;167;01mStopIteration\u001b[39;00m:\n",
      "File \u001b[1;32m~\\anaconda3\\Lib\\site-packages\\matplotlib\\__init__.py:880\u001b[0m, in \u001b[0;36m_open_file_or_url\u001b[1;34m(fname)\u001b[0m\n\u001b[0;32m    879\u001b[0m fname \u001b[38;5;241m=\u001b[39m os\u001b[38;5;241m.\u001b[39mpath\u001b[38;5;241m.\u001b[39mexpanduser(fname)\n\u001b[1;32m--> 880\u001b[0m \u001b[38;5;28;01mwith\u001b[39;00m \u001b[38;5;28mopen\u001b[39m(fname, encoding\u001b[38;5;241m=\u001b[39m\u001b[38;5;124m'\u001b[39m\u001b[38;5;124mutf-8\u001b[39m\u001b[38;5;124m'\u001b[39m) \u001b[38;5;28;01mas\u001b[39;00m f:\n\u001b[0;32m    881\u001b[0m     \u001b[38;5;28;01myield\u001b[39;00m f\n",
      "\u001b[1;31mFileNotFoundError\u001b[0m: [Errno 2] No such file or directory: 'seaborn'",
      "\nThe above exception was the direct cause of the following exception:\n",
      "\u001b[1;31mOSError\u001b[0m                                   Traceback (most recent call last)",
      "Cell \u001b[1;32mIn[3], line 28\u001b[0m\n\u001b[0;32m     26\u001b[0m \u001b[38;5;66;03m# Display settings\u001b[39;00m\n\u001b[0;32m     27\u001b[0m get_ipython()\u001b[38;5;241m.\u001b[39mrun_line_magic(\u001b[38;5;124m'\u001b[39m\u001b[38;5;124mmatplotlib\u001b[39m\u001b[38;5;124m'\u001b[39m, \u001b[38;5;124m'\u001b[39m\u001b[38;5;124minline\u001b[39m\u001b[38;5;124m'\u001b[39m)\n\u001b[1;32m---> 28\u001b[0m plt\u001b[38;5;241m.\u001b[39mstyle\u001b[38;5;241m.\u001b[39muse(\u001b[38;5;124m'\u001b[39m\u001b[38;5;124mseaborn\u001b[39m\u001b[38;5;124m'\u001b[39m)\n",
      "File \u001b[1;32m~\\anaconda3\\Lib\\site-packages\\matplotlib\\style\\core.py:131\u001b[0m, in \u001b[0;36muse\u001b[1;34m(style)\u001b[0m\n\u001b[0;32m    129\u001b[0m         style \u001b[38;5;241m=\u001b[39m _rc_params_in_file(style)\n\u001b[0;32m    130\u001b[0m     \u001b[38;5;28;01mexcept\u001b[39;00m \u001b[38;5;167;01mOSError\u001b[39;00m \u001b[38;5;28;01mas\u001b[39;00m err:\n\u001b[1;32m--> 131\u001b[0m         \u001b[38;5;28;01mraise\u001b[39;00m \u001b[38;5;167;01mOSError\u001b[39;00m(\n\u001b[0;32m    132\u001b[0m             \u001b[38;5;124mf\u001b[39m\u001b[38;5;124m\"\u001b[39m\u001b[38;5;132;01m{\u001b[39;00mstyle\u001b[38;5;132;01m!r}\u001b[39;00m\u001b[38;5;124m is not a valid package style, path of style \u001b[39m\u001b[38;5;124m\"\u001b[39m\n\u001b[0;32m    133\u001b[0m             \u001b[38;5;124mf\u001b[39m\u001b[38;5;124m\"\u001b[39m\u001b[38;5;124mfile, URL of style file, or library style name (library \u001b[39m\u001b[38;5;124m\"\u001b[39m\n\u001b[0;32m    134\u001b[0m             \u001b[38;5;124mf\u001b[39m\u001b[38;5;124m\"\u001b[39m\u001b[38;5;124mstyles are listed in `style.available`)\u001b[39m\u001b[38;5;124m\"\u001b[39m) \u001b[38;5;28;01mfrom\u001b[39;00m \u001b[38;5;21;01merr\u001b[39;00m\n\u001b[0;32m    135\u001b[0m filtered \u001b[38;5;241m=\u001b[39m {}\n\u001b[0;32m    136\u001b[0m \u001b[38;5;28;01mfor\u001b[39;00m k \u001b[38;5;129;01min\u001b[39;00m style:  \u001b[38;5;66;03m# don't trigger RcParams.__getitem__('backend')\u001b[39;00m\n",
      "\u001b[1;31mOSError\u001b[0m: 'seaborn' is not a valid package style, path of style file, URL of style file, or library style name (library styles are listed in `style.available`)"
     ]
    }
   ],
   "source": [
    "# Data manipulation and analysis\n",
    "import pandas as pd\n",
    "import numpy as np\n",
    "\n",
    "# Data visualization\n",
    "import matplotlib.pyplot as plt\n",
    "import seaborn as sns\n",
    "\n",
    "# Statistical tests\n",
    "from scipy import stats\n",
    "\n",
    "# Machine learning models and evaluation\n",
    "from sklearn.model_selection import train_test_split, GridSearchCV, cross_val_score\n",
    "from sklearn.preprocessing import StandardScaler, LabelEncoder\n",
    "from sklearn.linear_model import LogisticRegression, LinearRegression\n",
    "from sklearn.ensemble import RandomForestClassifier, RandomForestRegressor\n",
    "from sklearn.metrics import (\n",
    "    accuracy_score, classification_report, confusion_matrix,\n",
    "    mean_squared_error, r2_score, roc_auc_score, roc_curve\n",
    ")\n",
    "\n",
    "# Ignore warnings (optional)\n",
    "import warnings\n",
    "warnings.filterwarnings('ignore')\n",
    "\n",
    "# Display settings\n",
    "%matplotlib inline\n",
    "plt.style.use('seaborn')"
   ]
  },
  {
   "cell_type": "markdown",
   "id": "59f288ca",
   "metadata": {
    "papermill": {
     "duration": 0.010458,
     "end_time": "2025-02-05T11:58:51.942472",
     "exception": false,
     "start_time": "2025-02-05T11:58:51.932014",
     "status": "completed"
    },
    "tags": []
   },
   "source": [
    "**Loading the Dataset**"
   ]
  },
  {
   "cell_type": "code",
   "execution_count": null,
   "id": "89828526",
   "metadata": {
    "papermill": {
     "duration": 0.15885,
     "end_time": "2025-02-05T11:58:52.111899",
     "exception": false,
     "start_time": "2025-02-05T11:58:51.953049",
     "status": "completed"
    },
    "tags": []
   },
   "outputs": [],
   "source": [
    "# Load the datasets\n",
    "df_low = pd.read_csv('/kaggle/input/spotify-music-dataset/low_popularity_spotify_data.csv')\n",
    "df_high = pd.read_csv('/kaggle/input/spotify-music-dataset/high_popularity_spotify_data.csv')\n",
    "\n",
    "# Add a label to identify low and high popularity songs\n",
    "df_low['Popularity_Label'] = 'Low'\n",
    "df_high['Popularity_Label'] = 'High'\n",
    "\n",
    "# Combine the datasets\n",
    "df = pd.concat([df_low, df_high], ignore_index=True)\n",
    "\n",
    "# Display the first few rows\n",
    "df.head()"
   ]
  },
  {
   "cell_type": "markdown",
   "id": "02f891d5",
   "metadata": {
    "papermill": {
     "duration": 0.01066,
     "end_time": "2025-02-05T11:58:52.135297",
     "exception": false,
     "start_time": "2025-02-05T11:58:52.124637",
     "status": "completed"
    },
    "tags": []
   },
   "source": [
    "**3 Data Exploration and Preprocessing**"
   ]
  },
  {
   "cell_type": "code",
   "execution_count": null,
   "id": "6e0bf4da",
   "metadata": {
    "papermill": {
     "duration": 0.037153,
     "end_time": "2025-02-05T11:58:52.183312",
     "exception": false,
     "start_time": "2025-02-05T11:58:52.146159",
     "status": "completed"
    },
    "tags": []
   },
   "outputs": [],
   "source": [
    "# Check the shape of the combined dataset\n",
    "print(f'Total records: {df.shape[0]}')\n",
    "print(f'Total features: {df.shape[1]}')\n",
    "\n",
    "# View summary information\n",
    "df.info()"
   ]
  },
  {
   "cell_type": "markdown",
   "id": "c6b85684",
   "metadata": {
    "papermill": {
     "duration": 0.010809,
     "end_time": "2025-02-05T11:58:52.205476",
     "exception": false,
     "start_time": "2025-02-05T11:58:52.194667",
     "status": "completed"
    },
    "tags": []
   },
   "source": [
    "** Handling Missing Values**"
   ]
  },
  {
   "cell_type": "code",
   "execution_count": null,
   "id": "9fa879aa",
   "metadata": {
    "papermill": {
     "duration": 0.025462,
     "end_time": "2025-02-05T11:58:52.241889",
     "exception": false,
     "start_time": "2025-02-05T11:58:52.216427",
     "status": "completed"
    },
    "tags": []
   },
   "outputs": [],
   "source": [
    "# Check for missing values in each column\n",
    "missing_values = df.isnull().sum()\n",
    "print(missing_values)"
   ]
  },
  {
   "cell_type": "code",
   "execution_count": null,
   "id": "a177c82a",
   "metadata": {
    "papermill": {
     "duration": 0.025548,
     "end_time": "2025-02-05T11:58:52.278608",
     "exception": false,
     "start_time": "2025-02-05T11:58:52.253060",
     "status": "completed"
    },
    "tags": []
   },
   "outputs": [],
   "source": [
    "# Calculate the percentage of missing values\n",
    "missing_percent = (df.isnull().sum() / len(df)) * 100\n",
    "print(missing_percent)"
   ]
  },
  {
   "cell_type": "code",
   "execution_count": null,
   "id": "3c59faa9",
   "metadata": {
    "papermill": {
     "duration": 0.032428,
     "end_time": "2025-02-05T11:58:52.322178",
     "exception": false,
     "start_time": "2025-02-05T11:58:52.289750",
     "status": "completed"
    },
    "tags": []
   },
   "outputs": [],
   "source": [
    "# Remove rows with missing values\n",
    "df_cleaned = df.dropna()\n",
    "\n",
    "# Verify that missing values are gone\n",
    "print(df_cleaned.isnull().sum())\n"
   ]
  },
  {
   "cell_type": "code",
   "execution_count": null,
   "id": "546fc1f6",
   "metadata": {
    "papermill": {
     "duration": 0.893265,
     "end_time": "2025-02-05T11:58:53.226893",
     "exception": false,
     "start_time": "2025-02-05T11:58:52.333628",
     "status": "completed"
    },
    "tags": []
   },
   "outputs": [],
   "source": [
    "# Visualize missing values using a heatmap\n",
    "plt.figure(figsize=(12, 6))\n",
    "sns.heatmap(df_cleaned.isnull(), cbar=False)\n",
    "plt.title('Missing Values Heatmap')\n",
    "plt.show()\n"
   ]
  },
  {
   "cell_type": "code",
   "execution_count": null,
   "id": "5d2c3ac0",
   "metadata": {
    "papermill": {
     "duration": 0.060201,
     "end_time": "2025-02-05T11:58:53.300023",
     "exception": false,
     "start_time": "2025-02-05T11:58:53.239822",
     "status": "completed"
    },
    "tags": []
   },
   "outputs": [],
   "source": [
    "# Drop columns with more than 50% missing values (if any)\n",
    "threshold = 0.5\n",
    "df_cleaned = df_cleaned.loc[:, df_cleaned.isnull().mean() < threshold]\n",
    "\n",
    "# Impute missing numerical values with median\n",
    "numerical_features = df_cleaned.select_dtypes(include=[np.number]).columns.tolist()\n",
    "for feature in numerical_features:\n",
    "    df_cleaned[feature].fillna(df_cleaned[feature].median(), inplace=True)\n",
    "\n",
    "# Impute missing categorical values with mode\n",
    "categorical_features = df.select_dtypes(include=[object]).columns.tolist()\n",
    "for feature in categorical_features:\n",
    "    df[feature].fillna(df[feature].mode()[0], inplace=True)"
   ]
  },
  {
   "cell_type": "markdown",
   "id": "e0a3161f",
   "metadata": {
    "papermill": {
     "duration": 0.012428,
     "end_time": "2025-02-05T11:58:53.325489",
     "exception": false,
     "start_time": "2025-02-05T11:58:53.313061",
     "status": "completed"
    },
    "tags": []
   },
   "source": [
    "**Data Type Conversion**"
   ]
  },
  {
   "cell_type": "code",
   "execution_count": null,
   "id": "561cc248",
   "metadata": {
    "papermill": {
     "duration": 0.038024,
     "end_time": "2025-02-05T11:58:53.376518",
     "exception": false,
     "start_time": "2025-02-05T11:58:53.338494",
     "status": "completed"
    },
    "tags": []
   },
   "outputs": [],
   "source": [
    "# Convert 'track_album_release_date' to datetime\n",
    "df_cleaned['track_album_release_date'] = pd.to_datetime(df_cleaned['track_album_release_date'], errors='coerce')\n",
    "\n",
    "# Extract year, month, and day from 'track_album_release_date'\n",
    "df_cleaned['Release Year'] = df_cleaned['track_album_release_date'].dt.year\n",
    "df_cleaned['Release Month'] = df_cleaned['track_album_release_date'].dt.month\n",
    "df_cleaned['Release Day'] = df_cleaned['track_album_release_date'].dt.day\n",
    "# Handle missing values in the new date features if necessary\n",
    "df_cleaned['Release Year'].fillna(df_cleaned['Release Year'].median(), inplace=True)\n",
    "df_cleaned['Release Month'].fillna(df_cleaned['Release Month'].median(), inplace=True)\n",
    "df_cleaned['Release Day'].fillna(df_cleaned['Release Day'].median(), inplace=True)\n",
    "\n",
    "# Convert 'key' and 'mode' to categorical\n",
    "df_cleaned['key'] = df_cleaned['key'].astype('category')\n",
    "df_cleaned['mode'] = df_cleaned['mode'].astype('category')\n",
    "\n",
    "# Update lists of numerical and categorical features\n",
    "numerical_features = df_cleaned.select_dtypes(include=[np.number]).columns.tolist()\n",
    "categorical_features = df_cleaned.select_dtypes(include=['object', 'category']).columns.tolist()\n",
    "\n",
    "# Exclude non-feature columns\n",
    "non_feature_columns = [\n",
    "    'track_name', 'track_artist', 'track_album_name', 'track_id', 'track_album_id',\n",
    "    'playlist_name', 'playlist_id', 'track_popularity', 'Popularity_Label', 'id', \n",
    "    'track_href', 'analysis_url', 'uri', 'type', 'track_album_release_date'\n",
    "]\n",
    "\n",
    "# Define features\n",
    "features = df_cleaned.columns.drop(non_feature_columns, errors='ignore').tolist()"
   ]
  },
  {
   "cell_type": "markdown",
   "id": "163e068a",
   "metadata": {
    "papermill": {
     "duration": 0.012725,
     "end_time": "2025-02-05T11:58:53.402522",
     "exception": false,
     "start_time": "2025-02-05T11:58:53.389797",
     "status": "completed"
    },
    "tags": []
   },
   "source": [
    "** Feature Engineering**"
   ]
  },
  {
   "cell_type": "code",
   "execution_count": null,
   "id": "33a0f607",
   "metadata": {
    "papermill": {
     "duration": 0.047983,
     "end_time": "2025-02-05T11:58:53.463256",
     "exception": false,
     "start_time": "2025-02-05T11:58:53.415273",
     "status": "completed"
    },
    "tags": []
   },
   "outputs": [],
   "source": [
    "# Encoding categorical variables using One-Hot Encoding\n",
    "categorical_features_to_encode = ['key', 'mode', 'playlist_genre', 'playlist_subgenre']\n",
    "\n",
    "df_encoded = pd.get_dummies(df_cleaned, columns=categorical_features_to_encode, drop_first=True)\n",
    "\n",
    "# Update feature list after encoding\n",
    "features = [feature for feature in df_encoded.columns if feature not in non_feature_columns + ['Popularity_Label', 'Popular']]\n",
    "\n",
    "# Scaling numerical features\n",
    "scaler = StandardScaler()\n",
    "df_encoded[numerical_features] = scaler.fit_transform(df_encoded[numerical_features])\n"
   ]
  },
  {
   "cell_type": "markdown",
   "id": "1159165b",
   "metadata": {
    "papermill": {
     "duration": 0.01295,
     "end_time": "2025-02-05T11:58:53.489101",
     "exception": false,
     "start_time": "2025-02-05T11:58:53.476151",
     "status": "completed"
    },
    "tags": []
   },
   "source": [
    "**Exploratory Data Analysis (EDA)**"
   ]
  },
  {
   "cell_type": "code",
   "execution_count": null,
   "id": "756fe846",
   "metadata": {
    "papermill": {
     "duration": 0.060327,
     "end_time": "2025-02-05T11:58:53.562246",
     "exception": false,
     "start_time": "2025-02-05T11:58:53.501919",
     "status": "completed"
    },
    "tags": []
   },
   "outputs": [],
   "source": [
    "# List of numerical features (excluding the target variable and IDs)\n",
    "numerical_features = [\n",
    "    'danceability', 'energy', 'loudness', 'speechiness', 'acousticness',\n",
    "    'instrumentalness', 'liveness', 'valence', 'tempo', 'duration_ms',\n",
    "    'time_signature', 'Release Year', 'Release Month', 'Release Day'\n",
    "]\n",
    "\n",
    "# Display summary statistics\n",
    "df_cleaned[numerical_features].describe().transpose()"
   ]
  },
  {
   "cell_type": "markdown",
   "id": "a72321f5",
   "metadata": {
    "papermill": {
     "duration": 0.012947,
     "end_time": "2025-02-05T11:58:53.588656",
     "exception": false,
     "start_time": "2025-02-05T11:58:53.575709",
     "status": "completed"
    },
    "tags": []
   },
   "source": [
    "**Summary Statistics for Categorical Features**"
   ]
  },
  {
   "cell_type": "code",
   "execution_count": null,
   "id": "3c1e43bb",
   "metadata": {
    "papermill": {
     "duration": 0.034977,
     "end_time": "2025-02-05T11:58:53.636819",
     "exception": false,
     "start_time": "2025-02-05T11:58:53.601842",
     "status": "completed"
    },
    "tags": []
   },
   "outputs": [],
   "source": [
    "# List of categorical features\n",
    "categorical_features = ['key', 'mode', 'playlist_genre', 'playlist_subgenre']\n",
    "\n",
    "# Display count of unique values and top frequencies\n",
    "df_cleaned[categorical_features].describe().transpose()"
   ]
  },
  {
   "cell_type": "markdown",
   "id": "4613073c",
   "metadata": {
    "papermill": {
     "duration": 0.012861,
     "end_time": "2025-02-05T11:58:53.663034",
     "exception": false,
     "start_time": "2025-02-05T11:58:53.650173",
     "status": "completed"
    },
    "tags": []
   },
   "source": [
    "** **Distribution Analysis****\n",
    "\n",
    "Let's visualize the distribution of numerical features and analyze differences between low and high-popularity songs.\n",
    "\n",
    "\n",
    "**Histograms for Numerical Features**"
   ]
  },
  {
   "cell_type": "code",
   "execution_count": null,
   "id": "1d3d9ae8",
   "metadata": {
    "papermill": {
     "duration": 6.382295,
     "end_time": "2025-02-05T11:59:00.058424",
     "exception": false,
     "start_time": "2025-02-05T11:58:53.676129",
     "status": "completed"
    },
    "tags": []
   },
   "outputs": [],
   "source": [
    "# Set up the matplotlib figure\n",
    "fig, axes = plt.subplots(len(numerical_features), 1, figsize=(10, len(numerical_features)*3))\n",
    "\n",
    "# Plot histograms\n",
    "for idx, feature in enumerate(numerical_features):\n",
    "    sns.histplot(data=df_cleaned, x=feature, hue='Popularity_Label', kde=True, ax=axes[idx])\n",
    "    axes[idx].set_title(f'Distribution of {feature} by Popularity Label')\n",
    "\n",
    "plt.tight_layout()\n",
    "plt.show()"
   ]
  },
  {
   "cell_type": "markdown",
   "id": "7754c547",
   "metadata": {
    "papermill": {
     "duration": 0.02415,
     "end_time": "2025-02-05T11:59:00.107525",
     "exception": false,
     "start_time": "2025-02-05T11:59:00.083375",
     "status": "completed"
    },
    "tags": []
   },
   "source": [
    "**** Boxplots for Numerical Features********"
   ]
  },
  {
   "cell_type": "code",
   "execution_count": null,
   "id": "b22a4ecb",
   "metadata": {
    "papermill": {
     "duration": 2.561004,
     "end_time": "2025-02-05T11:59:02.693378",
     "exception": false,
     "start_time": "2025-02-05T11:59:00.132374",
     "status": "completed"
    },
    "tags": []
   },
   "outputs": [],
   "source": [
    "# Set up the matplotlib figure\n",
    "fig, axes = plt.subplots(len(numerical_features), 1, figsize=(10, len(numerical_features)*3))\n",
    "\n",
    "# Plot boxplots\n",
    "for idx, feature in enumerate(numerical_features):\n",
    "    sns.boxplot(data=df_cleaned, x='Popularity_Label', y=feature, ax=axes[idx])\n",
    "    axes[idx].set_title(f'Boxplot of {feature} by Popularity Label')\n",
    "\n",
    "plt.tight_layout()\n",
    "plt.show()"
   ]
  },
  {
   "cell_type": "markdown",
   "id": "1ba1f8db",
   "metadata": {
    "papermill": {
     "duration": 0.030273,
     "end_time": "2025-02-05T11:59:02.754473",
     "exception": false,
     "start_time": "2025-02-05T11:59:02.724200",
     "status": "completed"
    },
    "tags": []
   },
   "source": [
    "**Correlation Matrix**"
   ]
  },
  {
   "cell_type": "code",
   "execution_count": null,
   "id": "668699a3",
   "metadata": {
    "papermill": {
     "duration": 0.853019,
     "end_time": "2025-02-05T11:59:03.637945",
     "exception": false,
     "start_time": "2025-02-05T11:59:02.784926",
     "status": "completed"
    },
    "tags": []
   },
   "outputs": [],
   "source": [
    "# Compute the correlation matrix\n",
    "corr_matrix = df_cleaned[numerical_features + ['track_popularity']].corr()\n",
    "\n",
    "# Plot the heatmap\n",
    "plt.figure(figsize=(12, 10))\n",
    "sns.heatmap(corr_matrix, annot=True, fmt=\".2f\", cmap='RdBu_r', center=0)\n",
    "plt.title('Correlation Matrix of Numerical Features')\n",
    "plt.show()"
   ]
  },
  {
   "cell_type": "markdown",
   "id": "957b0079",
   "metadata": {
    "papermill": {
     "duration": 0.035247,
     "end_time": "2025-02-05T11:59:03.709034",
     "exception": false,
     "start_time": "2025-02-05T11:59:03.673787",
     "status": "completed"
    },
    "tags": []
   },
   "source": [
    "**Analysis of Categorical Features**\n",
    "\n",
    "\n",
    "\n",
    " Count Plots for Categorical Features"
   ]
  },
  {
   "cell_type": "code",
   "execution_count": null,
   "id": "b799efde",
   "metadata": {
    "papermill": {
     "duration": 2.379434,
     "end_time": "2025-02-05T11:59:06.123762",
     "exception": false,
     "start_time": "2025-02-05T11:59:03.744328",
     "status": "completed"
    },
    "tags": []
   },
   "outputs": [],
   "source": [
    "# Plot count plots for each categorical feature\n",
    "for feature in categorical_features:\n",
    "    plt.figure(figsize=(10, 6))\n",
    "    sns.countplot(data=df_cleaned, x=feature, hue='Popularity_Label')\n",
    "    plt.title(f'Count Plot of {feature} by Popularity Label')\n",
    "    plt.xticks(rotation=90)\n",
    "    plt.tight_layout()\n",
    "    plt.show()"
   ]
  },
  {
   "cell_type": "markdown",
   "id": "9b909509",
   "metadata": {
    "papermill": {
     "duration": 0.0389,
     "end_time": "2025-02-05T11:59:06.203640",
     "exception": false,
     "start_time": "2025-02-05T11:59:06.164740",
     "status": "completed"
    },
    "tags": []
   },
   "source": [
    "**Feature Relationships with Popularity**\n",
    "\n",
    " \n",
    " Scatter Plots"
   ]
  },
  {
   "cell_type": "code",
   "execution_count": null,
   "id": "01d5766e",
   "metadata": {
    "papermill": {
     "duration": 2.499328,
     "end_time": "2025-02-05T11:59:08.741373",
     "exception": false,
     "start_time": "2025-02-05T11:59:06.242045",
     "status": "completed"
    },
    "tags": []
   },
   "outputs": [],
   "source": [
    "# Define a list of features to plot against popularity\n",
    "features_to_plot = ['danceability', 'energy', 'loudness', 'valence', 'tempo']\n",
    "\n",
    "# Plot scatter plots\n",
    "for feature in features_to_plot:\n",
    "    plt.figure(figsize=(10, 6))\n",
    "    sns.scatterplot(data=df_cleaned, x=feature, y='track_popularity', hue='Popularity_Label')\n",
    "    plt.title(f'{feature.capitalize()} vs. Track Popularity')\n",
    "    plt.tight_layout()\n",
    "    plt.show()"
   ]
  },
  {
   "cell_type": "markdown",
   "id": "68f1a40e",
   "metadata": {
    "papermill": {
     "duration": 0.089335,
     "end_time": "2025-02-05T11:59:08.921150",
     "exception": false,
     "start_time": "2025-02-05T11:59:08.831815",
     "status": "completed"
    },
    "tags": []
   },
   "source": [
    "** Violin Plots**"
   ]
  },
  {
   "cell_type": "code",
   "execution_count": null,
   "id": "bce64211",
   "metadata": {
    "papermill": {
     "duration": 3.374021,
     "end_time": "2025-02-05T11:59:12.380596",
     "exception": false,
     "start_time": "2025-02-05T11:59:09.006575",
     "status": "completed"
    },
    "tags": []
   },
   "outputs": [],
   "source": [
    "# Plot violin plots to show the distribution of features\n",
    "for feature in numerical_features:\n",
    "    plt.figure(figsize=(10, 6))\n",
    "    sns.violinplot(data=df_cleaned, x='Popularity_Label', y=feature)\n",
    "    plt.title(f'Violin Plot of {feature} by Popularity Label')\n",
    "    plt.tight_layout()\n",
    "    plt.show()"
   ]
  },
  {
   "cell_type": "markdown",
   "id": "b05415d2",
   "metadata": {
    "papermill": {
     "duration": 0.101493,
     "end_time": "2025-02-05T11:59:12.588154",
     "exception": false,
     "start_time": "2025-02-05T11:59:12.486661",
     "status": "completed"
    },
    "tags": []
   },
   "source": [
    "Pair Plot"
   ]
  },
  {
   "cell_type": "code",
   "execution_count": null,
   "id": "6cb84392",
   "metadata": {
    "papermill": {
     "duration": 20.387596,
     "end_time": "2025-02-05T11:59:33.076652",
     "exception": false,
     "start_time": "2025-02-05T11:59:12.689056",
     "status": "completed"
    },
    "tags": []
   },
   "outputs": [],
   "source": [
    "# Select a subset of features to include in the pair plot to avoid clutter\n",
    "selected_features = ['danceability', 'energy', 'loudness', 'valence', 'tempo', 'track_popularity']\n",
    "\n",
    "# Create a pair plot\n",
    "sns.pairplot(df_cleaned[selected_features + ['Popularity_Label']], hue='Popularity_Label')\n",
    "plt.show()"
   ]
  },
  {
   "cell_type": "markdown",
   "id": "94c85935",
   "metadata": {
    "papermill": {
     "duration": 0.150225,
     "end_time": "2025-02-05T11:59:33.380680",
     "exception": false,
     "start_time": "2025-02-05T11:59:33.230455",
     "status": "completed"
    },
    "tags": []
   },
   "source": [
    "**Statistical Tests**"
   ]
  },
  {
   "cell_type": "markdown",
   "id": "bf6ac49e",
   "metadata": {
    "papermill": {
     "duration": 0.144403,
     "end_time": "2025-02-05T11:59:33.669999",
     "exception": false,
     "start_time": "2025-02-05T11:59:33.525596",
     "status": "completed"
    },
    "tags": []
   },
   "source": [
    "** T-Tests Between Low and High-Popularity Songs**\n",
    "\n",
    "We'll perform t-tests to determine if the difference in means of features between low and high-popularity songs is statistically significant."
   ]
  },
  {
   "cell_type": "code",
   "execution_count": null,
   "id": "d23c1d96",
   "metadata": {
    "papermill": {
     "duration": 0.199233,
     "end_time": "2025-02-05T11:59:34.013504",
     "exception": false,
     "start_time": "2025-02-05T11:59:33.814271",
     "status": "completed"
    },
    "tags": []
   },
   "outputs": [],
   "source": [
    "from scipy.stats import ttest_ind\n",
    "\n",
    "# Separate the dataframe into low and high popularity songs\n",
    "df_low_pop = df_cleaned[df_cleaned['Popularity_Label'] == 'Low']\n",
    "df_high_pop = df_cleaned[df_cleaned['Popularity_Label'] == 'High']\n",
    "\n",
    "# Perform t-tests for numerical features\n",
    "significant_features = []\n",
    "alpha = 0.05  # Significance level\n",
    "\n",
    "for feature in numerical_features:\n",
    "    stat, p = ttest_ind(df_low_pop[feature], df_high_pop[feature], nan_policy='omit')\n",
    "    print(f'{feature}: p-value = {p:.4f}')\n",
    "    if p < alpha:\n",
    "        significant_features.append(feature)\n",
    "        print(f'  -> Significant difference in means (p < {alpha})\\n')\n",
    "    else:\n",
    "        print(f'  -> No significant difference in means (p >= {alpha})\\n')"
   ]
  },
  {
   "cell_type": "markdown",
   "id": "0bf7ebbe",
   "metadata": {
    "papermill": {
     "duration": 0.166911,
     "end_time": "2025-02-05T11:59:34.330865",
     "exception": false,
     "start_time": "2025-02-05T11:59:34.163954",
     "status": "completed"
    },
    "tags": []
   },
   "source": [
    "**Correlation with Target Variable**\n",
    "\n",
    " Calculating Correlation with Track Popularity"
   ]
  },
  {
   "cell_type": "code",
   "execution_count": null,
   "id": "d0be2aac",
   "metadata": {
    "papermill": {
     "duration": 0.163917,
     "end_time": "2025-02-05T11:59:34.643691",
     "exception": false,
     "start_time": "2025-02-05T11:59:34.479774",
     "status": "completed"
    },
    "tags": []
   },
   "outputs": [],
   "source": [
    "# Calculate Pearson correlation coefficients between numerical features and track popularity\n",
    "feature_correlations = df_cleaned[numerical_features + ['track_popularity']].corr()['track_popularity'].sort_values(ascending=False)\n",
    "\n",
    "# Display the correlations\n",
    "print('Correlation with Track Popularity:')\n",
    "print(feature_correlations)"
   ]
  },
  {
   "cell_type": "markdown",
   "id": "09d49080",
   "metadata": {
    "papermill": {
     "duration": 0.145018,
     "end_time": "2025-02-05T11:59:34.935050",
     "exception": false,
     "start_time": "2025-02-05T11:59:34.790032",
     "status": "completed"
    },
    "tags": []
   },
   "source": [
    "**Visualizing Feature Correlations**"
   ]
  },
  {
   "cell_type": "code",
   "execution_count": null,
   "id": "a67adacd",
   "metadata": {
    "papermill": {
     "duration": 0.461847,
     "end_time": "2025-02-05T11:59:35.542101",
     "exception": false,
     "start_time": "2025-02-05T11:59:35.080254",
     "status": "completed"
    },
    "tags": []
   },
   "outputs": [],
   "source": [
    "# Plot the correlations\n",
    "plt.figure(figsize=(8, 6))\n",
    "feature_correlations.drop('track_popularity').plot(kind='bar')\n",
    "plt.title('Correlation of Features with Track Popularity')\n",
    "plt.xlabel('Features')\n",
    "plt.ylabel('Correlation Coefficient')\n",
    "plt.tight_layout()\n",
    "plt.show()"
   ]
  },
  {
   "cell_type": "markdown",
   "id": "08dfeacf",
   "metadata": {
    "papermill": {
     "duration": 0.150356,
     "end_time": "2025-02-05T11:59:35.839986",
     "exception": false,
     "start_time": "2025-02-05T11:59:35.689630",
     "status": "completed"
    },
    "tags": []
   },
   "source": [
    "**Analysis of Release Date Features**¶\n",
    "\n",
    " \n",
    " Popularity Over Release Years"
   ]
  },
  {
   "cell_type": "code",
   "execution_count": null,
   "id": "a1015eab",
   "metadata": {
    "papermill": {
     "duration": 0.41531,
     "end_time": "2025-02-05T11:59:36.400929",
     "exception": false,
     "start_time": "2025-02-05T11:59:35.985619",
     "status": "completed"
    },
    "tags": []
   },
   "outputs": [],
   "source": [
    "# Average popularity by release year\n",
    "popularity_by_year = df_cleaned.groupby('Release Year')['track_popularity'].mean()\n",
    "\n",
    "# Plot the trend\n",
    "plt.figure(figsize=(12, 6))\n",
    "popularity_by_year.plot()\n",
    "plt.title('Average Track Popularity Over Years')\n",
    "plt.xlabel('Release Year')\n",
    "plt.ylabel('Average Popularity')\n",
    "plt.tight_layout()\n",
    "plt.show()"
   ]
  },
  {
   "cell_type": "markdown",
   "id": "779300ff",
   "metadata": {
    "papermill": {
     "duration": 0.1452,
     "end_time": "2025-02-05T11:59:36.698508",
     "exception": false,
     "start_time": "2025-02-05T11:59:36.553308",
     "status": "completed"
    },
    "tags": []
   },
   "source": [
    "** Number of Tracks Released Over Years**"
   ]
  },
  {
   "cell_type": "code",
   "execution_count": null,
   "id": "9472f00e",
   "metadata": {
    "papermill": {
     "duration": 0.756235,
     "end_time": "2025-02-05T11:59:37.602114",
     "exception": false,
     "start_time": "2025-02-05T11:59:36.845879",
     "status": "completed"
    },
    "tags": []
   },
   "outputs": [],
   "source": [
    "# Count of tracks by release year\n",
    "tracks_per_year = df_cleaned.groupby('Release Year').size()\n",
    "\n",
    "# Plot the counts\n",
    "plt.figure(figsize=(12, 6))\n",
    "tracks_per_year.plot(kind='bar')\n",
    "plt.title('Number of Tracks Released Over Years')\n",
    "plt.xlabel('Release Year')\n",
    "plt.ylabel('Number of Tracks')\n",
    "plt.tight_layout()\n",
    "plt.show()"
   ]
  },
  {
   "cell_type": "markdown",
   "id": "362afcd2",
   "metadata": {
    "papermill": {
     "duration": 0.148041,
     "end_time": "2025-02-05T11:59:37.899771",
     "exception": false,
     "start_time": "2025-02-05T11:59:37.751730",
     "status": "completed"
    },
    "tags": []
   },
   "source": [
    "**Categorical Feature Analysis**\n",
    "\n",
    " \n",
    " Popularity by Playlist Genre"
   ]
  },
  {
   "cell_type": "code",
   "execution_count": null,
   "id": "44a5c365",
   "metadata": {
    "papermill": {
     "duration": 0.782639,
     "end_time": "2025-02-05T11:59:38.831816",
     "exception": false,
     "start_time": "2025-02-05T11:59:38.049177",
     "status": "completed"
    },
    "tags": []
   },
   "outputs": [],
   "source": [
    "# Average popularity by playlist genre\n",
    "popularity_by_genre = df_cleaned.groupby('playlist_genre')['track_popularity'].mean().sort_values(ascending=False)\n",
    "\n",
    "# Plot the top genres\n",
    "plt.figure(figsize=(12, 6))\n",
    "popularity_by_genre.plot(kind='bar')\n",
    "plt.title('Average Track Popularity by Playlist Genre')\n",
    "plt.xlabel('Playlist Genre')\n",
    "plt.ylabel('Average Popularity')\n",
    "plt.xticks(rotation=90)\n",
    "plt.tight_layout()\n",
    "plt.show()"
   ]
  },
  {
   "cell_type": "markdown",
   "id": "98a4888e",
   "metadata": {
    "papermill": {
     "duration": 0.153194,
     "end_time": "2025-02-05T11:59:39.139095",
     "exception": false,
     "start_time": "2025-02-05T11:59:38.985901",
     "status": "completed"
    },
    "tags": []
   },
   "source": [
    "**Popularity by Playlist Subgenre**"
   ]
  },
  {
   "cell_type": "code",
   "execution_count": null,
   "id": "c79e572a",
   "metadata": {
    "papermill": {
     "duration": 0.471251,
     "end_time": "2025-02-05T11:59:39.767558",
     "exception": false,
     "start_time": "2025-02-05T11:59:39.296307",
     "status": "completed"
    },
    "tags": []
   },
   "outputs": [],
   "source": [
    "# Average popularity by playlist subgenre\n",
    "popularity_by_subgenre = df_cleaned.groupby('playlist_subgenre')['track_popularity'].mean().sort_values(ascending=False)\n",
    "\n",
    "# Plot the top subgenres\n",
    "plt.figure(figsize=(12, 6))\n",
    "popularity_by_subgenre.head(20).plot(kind='bar')\n",
    "plt.title('Average Track Popularity by Playlist Subgenre (Top 20)')\n",
    "plt.xlabel('Playlist Subgenre')\n",
    "plt.ylabel('Average Popularity')\n",
    "plt.xticks(rotation=90)\n",
    "plt.tight_layout()\n",
    "plt.show()"
   ]
  },
  {
   "cell_type": "markdown",
   "id": "85a25554",
   "metadata": {
    "papermill": {
     "duration": 0.149285,
     "end_time": "2025-02-05T11:59:40.073226",
     "exception": false,
     "start_time": "2025-02-05T11:59:39.923941",
     "status": "completed"
    },
    "tags": []
   },
   "source": [
    "** Mode and Key Distribution**"
   ]
  },
  {
   "cell_type": "code",
   "execution_count": null,
   "id": "e2867188",
   "metadata": {
    "papermill": {
     "duration": 0.690479,
     "end_time": "2025-02-05T11:59:40.913340",
     "exception": false,
     "start_time": "2025-02-05T11:59:40.222861",
     "status": "completed"
    },
    "tags": []
   },
   "outputs": [],
   "source": [
    "# Mode distribution\n",
    "plt.figure(figsize=(8, 6))\n",
    "sns.countplot(data=df_cleaned, x='mode', hue='Popularity_Label')\n",
    "plt.title('Distribution of Mode by Popularity Label')\n",
    "plt.xlabel('Mode')\n",
    "plt.ylabel('Count')\n",
    "plt.tight_layout()\n",
    "plt.show()\n",
    "\n",
    "# Key distribution\n",
    "plt.figure(figsize=(12, 6))\n",
    "sns.countplot(data=df_cleaned, x='key', hue='Popularity_Label')\n",
    "plt.title('Distribution of Key by Popularity Label')\n",
    "plt.xlabel('Key')\n",
    "plt.ylabel('Count')\n",
    "plt.tight_layout()\n",
    "plt.show()\n"
   ]
  },
  {
   "cell_type": "markdown",
   "id": "ce0fb8a4",
   "metadata": {
    "papermill": {
     "duration": 0.152856,
     "end_time": "2025-02-05T11:59:41.219376",
     "exception": false,
     "start_time": "2025-02-05T11:59:41.066520",
     "status": "completed"
    },
    "tags": []
   },
   "source": [
    "** Feature Engineering**\n",
    "\n",
    "Handling Skewed Features\n",
    "\n",
    "\n",
    "Some features might be skewed. We can apply transformations if necessary."
   ]
  },
  {
   "cell_type": "code",
   "execution_count": null,
   "id": "0a974f7a",
   "metadata": {
    "papermill": {
     "duration": 0.166637,
     "end_time": "2025-02-05T11:59:41.584455",
     "exception": false,
     "start_time": "2025-02-05T11:59:41.417818",
     "status": "completed"
    },
    "tags": []
   },
   "outputs": [],
   "source": [
    "# Check skewness\n",
    "skewed_features = df_cleaned[numerical_features].skew().sort_values(ascending=False)\n",
    "print('Skewness of Numerical Features:')\n",
    "print(skewed_features)"
   ]
  },
  {
   "cell_type": "markdown",
   "id": "31ecf599",
   "metadata": {
    "papermill": {
     "duration": 0.150061,
     "end_time": "2025-02-05T11:59:41.885288",
     "exception": false,
     "start_time": "2025-02-05T11:59:41.735227",
     "status": "completed"
    },
    "tags": []
   },
   "source": [
    "**Log Transformation of Highly Skewed Features**"
   ]
  },
  {
   "cell_type": "code",
   "execution_count": null,
   "id": "a8f2673e",
   "metadata": {
    "papermill": {
     "duration": 0.166407,
     "end_time": "2025-02-05T11:59:42.201863",
     "exception": false,
     "start_time": "2025-02-05T11:59:42.035456",
     "status": "completed"
    },
    "tags": []
   },
   "outputs": [],
   "source": [
    "# Identify features with high skewness\n",
    "high_skewness = skewed_features[abs(skewed_features) > 0.5].index.tolist()\n",
    "\n",
    "# Apply log transformation to positively skewed features\n",
    "for feature in high_skewness:\n",
    "    if (df_cleaned[feature] > 0).all():\n",
    "        df_cleaned[feature] = np.log1p(df_cleaned[feature])"
   ]
  },
  {
   "cell_type": "markdown",
   "id": "9fc8347c",
   "metadata": {
    "papermill": {
     "duration": 0.150223,
     "end_time": "2025-02-05T11:59:42.504365",
     "exception": false,
     "start_time": "2025-02-05T11:59:42.354142",
     "status": "completed"
    },
    "tags": []
   },
   "source": [
    "**Updating Feature Lists**"
   ]
  },
  {
   "cell_type": "code",
   "execution_count": null,
   "id": "f5373e52",
   "metadata": {
    "papermill": {
     "duration": 0.161135,
     "end_time": "2025-02-05T11:59:42.816734",
     "exception": false,
     "start_time": "2025-02-05T11:59:42.655599",
     "status": "completed"
    },
    "tags": []
   },
   "outputs": [],
   "source": [
    "# Recalculate numerical features if any transformations changed data types\n",
    "numerical_features = df_cleaned.select_dtypes(include=[np.number]).columns.tolist()\n",
    "\n",
    "# Remove target variables and IDs from features\n",
    "non_feature_columns = [\n",
    "    'track_name', 'track_artist', 'track_album_name', 'track_id', 'track_album_id',\n",
    "    'playlist_name', 'playlist_id', 'track_popularity', 'Popularity_Label', 'Popular',\n",
    "    'id', 'track_href', 'analysis_url', 'uri', 'type', 'track_album_release_date'\n",
    "]\n",
    "\n",
    "features = [feature for feature in df_cleaned.columns if feature not in non_feature_columns]"
   ]
  },
  {
   "cell_type": "markdown",
   "id": "afc161ab",
   "metadata": {
    "papermill": {
     "duration": 0.155241,
     "end_time": "2025-02-05T11:59:43.123498",
     "exception": false,
     "start_time": "2025-02-05T11:59:42.968257",
     "status": "completed"
    },
    "tags": []
   },
   "source": [
    "**Encoding Categorical Variables**\n",
    "\n",
    "* Identifying Categorical Variables\n",
    "  \n",
    "First, let's identify the categorical variables that need to be encoded."
   ]
  },
  {
   "cell_type": "code",
   "execution_count": null,
   "id": "36b0c7ff",
   "metadata": {
    "papermill": {
     "duration": 0.158139,
     "end_time": "2025-02-05T11:59:43.434176",
     "exception": false,
     "start_time": "2025-02-05T11:59:43.276037",
     "status": "completed"
    },
    "tags": []
   },
   "outputs": [],
   "source": [
    "# List of categorical features to encode\n",
    "categorical_features = ['key', 'mode', 'playlist_genre', 'playlist_subgenre']"
   ]
  },
  {
   "cell_type": "markdown",
   "id": "ab263889",
   "metadata": {
    "papermill": {
     "duration": 0.156366,
     "end_time": "2025-02-05T11:59:43.742867",
     "exception": false,
     "start_time": "2025-02-05T11:59:43.586501",
     "status": "completed"
    },
    "tags": []
   },
   "source": [
    "**Encoding Using One-Hot Encoding**\n",
    "\n",
    "We'll use One-Hot Encoding to convert categorical variables into a format that can be provided to ML algorithms."
   ]
  },
  {
   "cell_type": "code",
   "execution_count": null,
   "id": "d521e874",
   "metadata": {
    "papermill": {
     "duration": 0.193809,
     "end_time": "2025-02-05T11:59:44.092239",
     "exception": false,
     "start_time": "2025-02-05T11:59:43.898430",
     "status": "completed"
    },
    "tags": []
   },
   "outputs": [],
   "source": [
    "# Perform One-Hot Encoding on categorical features\n",
    "df_encoded = pd.get_dummies(df_cleaned, columns=categorical_features, drop_first=True)\n",
    "\n",
    "# Display the first few rows of the encoded DataFrame\n",
    "df_encoded.head()"
   ]
  },
  {
   "cell_type": "markdown",
   "id": "48d6e3e2",
   "metadata": {
    "papermill": {
     "duration": 0.165774,
     "end_time": "2025-02-05T11:59:44.424112",
     "exception": false,
     "start_time": "2025-02-05T11:59:44.258338",
     "status": "completed"
    },
    "tags": []
   },
   "source": [
    "**Scaling Numerical Features**"
   ]
  },
  {
   "cell_type": "markdown",
   "id": "88fd3aef",
   "metadata": {
    "papermill": {
     "duration": 0.154801,
     "end_time": "2025-02-05T11:59:44.733522",
     "exception": false,
     "start_time": "2025-02-05T11:59:44.578721",
     "status": "completed"
    },
    "tags": []
   },
   "source": [
    "Identifying Numerical Features¶"
   ]
  },
  {
   "cell_type": "code",
   "execution_count": null,
   "id": "11f1b517",
   "metadata": {
    "papermill": {
     "duration": 0.160088,
     "end_time": "2025-02-05T11:59:45.051099",
     "exception": false,
     "start_time": "2025-02-05T11:59:44.891011",
     "status": "completed"
    },
    "tags": []
   },
   "outputs": [],
   "source": [
    "# List of numerical features\n",
    "numerical_features = [\n",
    "    'danceability', 'energy', 'loudness', 'speechiness', 'acousticness',\n",
    "    'instrumentalness', 'liveness', 'valence', 'tempo', 'duration_ms',\n",
    "    'time_signature', 'Release Year', 'Release Month', 'Release Day'\n",
    "]"
   ]
  },
  {
   "cell_type": "markdown",
   "id": "d1d907a0",
   "metadata": {
    "papermill": {
     "duration": 0.151707,
     "end_time": "2025-02-05T11:59:45.354520",
     "exception": false,
     "start_time": "2025-02-05T11:59:45.202813",
     "status": "completed"
    },
    "tags": []
   },
   "source": []
  },
  {
   "cell_type": "markdown",
   "id": "81042cf7",
   "metadata": {
    "papermill": {
     "duration": 0.1509,
     "end_time": "2025-02-05T11:59:45.656807",
     "exception": false,
     "start_time": "2025-02-05T11:59:45.505907",
     "status": "completed"
    },
    "tags": []
   },
   "source": [
    "**Scaling Using StandardScaler**"
   ]
  },
  {
   "cell_type": "code",
   "execution_count": null,
   "id": "aa715112",
   "metadata": {
    "papermill": {
     "duration": 0.180599,
     "end_time": "2025-02-05T11:59:45.989073",
     "exception": false,
     "start_time": "2025-02-05T11:59:45.808474",
     "status": "completed"
    },
    "tags": []
   },
   "outputs": [],
   "source": [
    "from sklearn.preprocessing import StandardScaler\n",
    "\n",
    "# Initialize the scaler\n",
    "scaler = StandardScaler()\n",
    "\n",
    "# Fit the scaler to the numerical features\n",
    "df_encoded[numerical_features] = scaler.fit_transform(df_encoded[numerical_features])\n",
    "\n",
    "# Display the first few rows of the scaled DataFrame\n",
    "df_encoded.head()"
   ]
  },
  {
   "cell_type": "markdown",
   "id": "0b126821",
   "metadata": {
    "papermill": {
     "duration": 0.158103,
     "end_time": "2025-02-05T11:59:46.302194",
     "exception": false,
     "start_time": "2025-02-05T11:59:46.144091",
     "status": "completed"
    },
    "tags": []
   },
   "source": [
    " **Final Feature Set for Modeling**\n",
    " \n",
    " Defining Features and Targets"
   ]
  },
  {
   "cell_type": "code",
   "execution_count": null,
   "id": "1435f148",
   "metadata": {
    "papermill": {
     "duration": 0.169484,
     "end_time": "2025-02-05T11:59:46.627788",
     "exception": false,
     "start_time": "2025-02-05T11:59:46.458304",
     "status": "completed"
    },
    "tags": []
   },
   "outputs": [],
   "source": [
    "# Create the 'Popular' column first (using track_popularity as a basis)\n",
    "df_encoded['Popular'] = (df_encoded['track_popularity'] > 50).astype(int)\n",
    "\n",
    "# Target variables\n",
    "y_classification = df_encoded['Popular']  # Binary classification target\n",
    "y_regression = df_encoded['track_popularity']  # Regression target\n",
    "\n",
    "# Drop non-feature columns for modeling\n",
    "non_feature_columns = [\n",
    "    'track_name', 'track_artist', 'track_name', 'track_href',\n",
    "    'playlist_name', 'track_popularity', 'Popular',\n",
    "    # Add any other non-feature columns you want to exclude\n",
    "]\n",
    "\n",
    "# Define feature matrix\n",
    "X = df_encoded.drop(columns=non_feature_columns, errors='ignore')\n",
    "\n",
    "# Verify shapes\n",
    "print(f'Feature matrix shape: {X.shape}')\n",
    "print(f'Classification target shape: {y_classification.shape}')\n",
    "print(f'Regression target shape: {y_regression.shape}')\n",
    "\n",
    "# You might also want to see the distribution of your new target variable\n",
    "print(\"\\nDistribution of 'Popular' classes:\")\n",
    "print(y_classification.value_counts(normalize=True))"
   ]
  },
  {
   "cell_type": "markdown",
   "id": "98d8e19a",
   "metadata": {
    "papermill": {
     "duration": 0.157738,
     "end_time": "2025-02-05T11:59:46.938620",
     "exception": false,
     "start_time": "2025-02-05T11:59:46.780882",
     "status": "completed"
    },
    "tags": []
   },
   "source": []
  }
 ],
 "metadata": {
  "kaggle": {
   "accelerator": "none",
   "dataSources": [
    {
     "datasetId": 6438137,
     "sourceId": 10391832,
     "sourceType": "datasetVersion"
    }
   ],
   "dockerImageVersionId": 30839,
   "isGpuEnabled": false,
   "isInternetEnabled": true,
   "language": "python",
   "sourceType": "notebook"
  },
  "kernelspec": {
   "display_name": "Python 3 (ipykernel)",
   "language": "python",
   "name": "python3"
  },
  "language_info": {
   "codemirror_mode": {
    "name": "ipython",
    "version": 3
   },
   "file_extension": ".py",
   "mimetype": "text/x-python",
   "name": "python",
   "nbconvert_exporter": "python",
   "pygments_lexer": "ipython3",
   "version": "3.12.7"
  },
  "papermill": {
   "default_parameters": {},
   "duration": 61.705811,
   "end_time": "2025-02-05T11:59:48.016520",
   "environment_variables": {},
   "exception": null,
   "input_path": "__notebook__.ipynb",
   "output_path": "__notebook__.ipynb",
   "parameters": {},
   "start_time": "2025-02-05T11:58:46.310709",
   "version": "2.6.0"
  }
 },
 "nbformat": 4,
 "nbformat_minor": 5
}
